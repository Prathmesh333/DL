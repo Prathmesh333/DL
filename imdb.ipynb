{
  "nbformat": 4,
  "nbformat_minor": 0,
  "metadata": {
    "colab": {
      "provenance": [],
      "gpuType": "T4"
    },
    "kernelspec": {
      "name": "python3",
      "display_name": "Python 3"
    },
    "language_info": {
      "name": "python"
    },
    "accelerator": "GPU",
    "gpuClass": "standard"
  },
  "cells": [
    {
      "cell_type": "code",
      "execution_count": 2,
      "metadata": {
        "id": "cr-Rmcx046sI"
      },
      "outputs": [],
      "source": [
        "import pandas as pd \n",
        "from tensorflow.keras.datasets import imdb\n",
        "from tensorflow.keras.preprocessing import sequence"
      ]
    },
    {
      "cell_type": "code",
      "source": [
        "vocab_size = 10000\n",
        "(X_train, y_train),(X_test,y_test) = imdb.load_data(num_words=vocab_size)"
      ],
      "metadata": {
        "colab": {
          "base_uri": "https://localhost:8080/"
        },
        "id": "_v5qcjvc48OQ",
        "outputId": "51282d2e-cf91-412f-ef17-959738b4e8c9"
      },
      "execution_count": 3,
      "outputs": [
        {
          "output_type": "stream",
          "name": "stdout",
          "text": [
            "Downloading data from https://storage.googleapis.com/tensorflow/tf-keras-datasets/imdb.npz\n",
            "17464789/17464789 [==============================] - 1s 0us/step\n"
          ]
        }
      ]
    },
    {
      "cell_type": "code",
      "source": [
        "max_length=200\n",
        "X_train = sequence.pad_sequences(X_train, maxlen = max_length)\n",
        "X_test = sequence.pad_sequences(X_test, maxlen = max_length)"
      ],
      "metadata": {
        "id": "NF1t799y5Agg"
      },
      "execution_count": 4,
      "outputs": []
    },
    {
      "cell_type": "code",
      "source": [
        "from tensorflow.keras import layers , models\n",
        "from keras.models import Sequential\n",
        "from keras.layers import Embedding , LSTM , Dense"
      ],
      "metadata": {
        "id": "ZdfxGMDe5C4I"
      },
      "execution_count": 5,
      "outputs": []
    },
    {
      "cell_type": "code",
      "source": [
        "model = Sequential()\n",
        "model.add(Embedding(vocab_size,128,input_length=max_length))\n",
        "model.add(LSTM(128))\n",
        "model.add(Dense(1,activation = 'sigmoid'))\n"
      ],
      "metadata": {
        "id": "NITTknzX5Edc"
      },
      "execution_count": 6,
      "outputs": []
    },
    {
      "cell_type": "code",
      "source": [
        "model.compile(optimizer='adam', loss='binary_crossentropy', metrics=['accuracy'])"
      ],
      "metadata": {
        "id": "1Eu-Scbu5G3K"
      },
      "execution_count": 7,
      "outputs": []
    },
    {
      "cell_type": "code",
      "source": [
        "model.summary()"
      ],
      "metadata": {
        "colab": {
          "base_uri": "https://localhost:8080/"
        },
        "id": "1UhQhPp55IRP",
        "outputId": "a7a1ccc8-3f43-4216-a5e5-0bd5adae66b2"
      },
      "execution_count": 8,
      "outputs": [
        {
          "output_type": "stream",
          "name": "stdout",
          "text": [
            "Model: \"sequential\"\n",
            "_________________________________________________________________\n",
            " Layer (type)                Output Shape              Param #   \n",
            "=================================================================\n",
            " embedding (Embedding)       (None, 200, 128)          1280000   \n",
            "                                                                 \n",
            " lstm (LSTM)                 (None, 128)               131584    \n",
            "                                                                 \n",
            " dense (Dense)               (None, 1)                 129       \n",
            "                                                                 \n",
            "=================================================================\n",
            "Total params: 1,411,713\n",
            "Trainable params: 1,411,713\n",
            "Non-trainable params: 0\n",
            "_________________________________________________________________\n"
          ]
        }
      ]
    },
    {
      "cell_type": "code",
      "source": [
        "model.fit(X_train,y_train,epochs=5 ,batch_size=64,validation_data=(X_test,y_test))"
      ],
      "metadata": {
        "colab": {
          "base_uri": "https://localhost:8080/"
        },
        "id": "zlPB6A3k5Jgp",
        "outputId": "8a215a68-a0ef-4f72-9c5b-1fd34dbf783e"
      },
      "execution_count": 9,
      "outputs": [
        {
          "output_type": "stream",
          "name": "stdout",
          "text": [
            "Epoch 1/5\n",
            "391/391 [==============================] - 74s 170ms/step - loss: 0.4481 - accuracy: 0.7850 - val_loss: 0.3515 - val_accuracy: 0.8516\n",
            "Epoch 2/5\n",
            "391/391 [==============================] - 24s 63ms/step - loss: 0.2547 - accuracy: 0.8994 - val_loss: 0.3258 - val_accuracy: 0.8628\n",
            "Epoch 3/5\n",
            "391/391 [==============================] - 15s 37ms/step - loss: 0.1964 - accuracy: 0.9250 - val_loss: 0.3483 - val_accuracy: 0.8656\n",
            "Epoch 4/5\n",
            "391/391 [==============================] - 11s 28ms/step - loss: 0.1435 - accuracy: 0.9484 - val_loss: 0.4024 - val_accuracy: 0.8466\n",
            "Epoch 5/5\n",
            "391/391 [==============================] - 10s 25ms/step - loss: 0.1080 - accuracy: 0.9611 - val_loss: 0.4569 - val_accuracy: 0.8591\n"
          ]
        },
        {
          "output_type": "execute_result",
          "data": {
            "text/plain": [
              "<keras.callbacks.History at 0x7f8aecd234c0>"
            ]
          },
          "metadata": {},
          "execution_count": 9
        }
      ]
    },
    {
      "cell_type": "code",
      "source": [
        "loss,accuracy = model.evaluate(X_test,y_test)\n",
        "\n",
        "print('loss',loss)\n",
        "print('accuracy ',accuracy)"
      ],
      "metadata": {
        "colab": {
          "base_uri": "https://localhost:8080/"
        },
        "id": "8F7Tn_h95La_",
        "outputId": "9a83b229-02ab-48fe-b3a3-e3ca0e38a91a"
      },
      "execution_count": 10,
      "outputs": [
        {
          "output_type": "stream",
          "name": "stdout",
          "text": [
            "782/782 [==============================] - 5s 6ms/step - loss: 0.4569 - accuracy: 0.8591\n",
            "loss 0.4568692445755005\n",
            "accuracy  0.8591200113296509\n"
          ]
        }
      ]
    },
    {
      "cell_type": "code",
      "source": [],
      "metadata": {
        "id": "5sXd2vHQ5Wsa"
      },
      "execution_count": null,
      "outputs": []
    }
  ]
}